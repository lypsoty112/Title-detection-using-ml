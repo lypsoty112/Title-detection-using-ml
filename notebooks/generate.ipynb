{
 "cells": [
  {
   "cell_type": "markdown",
   "id": "619a006b27f5a0bd",
   "metadata": {
    "collapsed": false
   },
   "source": [
    "# Generate\n",
    "------\n",
    "This file will generate the datasets of the project. It requires a lot of manual input, so it'll be a bit messy. This is however necessary, as no dataset exists that'll cater to my exact needs. The dataset will be generated in the following way:\n",
    "1. Open all the files in the `data/test/raw` & `data/train/raw` folder\n",
    "2. Process the pdfs to extract the text, and save that processed data, and it's information already once.\n",
    "3. Process the text to extract the relevant information, and save that processed data, and it's information already once.\n",
    "4. Go through the data and manually select whether the data is a heading or not. This will be saved in the `data/test/processed` & `data/train/processed` folder."
   ]
  },
  {
   "cell_type": "markdown",
   "id": "764a43b6b96d0a1a",
   "metadata": {
    "collapsed": false
   },
   "source": [
    "## Imports"
   ]
  },
  {
   "cell_type": "code",
   "execution_count": 4,
   "id": "fd02572af1c883cd",
   "metadata": {
    "collapsed": false,
    "ExecuteTime": {
     "end_time": "2023-10-17T10:34:29.538007100Z",
     "start_time": "2023-10-17T10:34:29.429166400Z"
    }
   },
   "outputs": [],
   "source": [
    "import os\n",
    "import dotenv\n",
    "import pandas as pd\n",
    "import numpy as np\n",
    "from werkzeug.datastructures import FileStorage      \n",
    "import tempfile\n",
    "import fitz\n",
    "import html\n",
    "\n",
    "import re"
   ]
  },
  {
   "cell_type": "markdown",
   "id": "de1048ac80cb9691",
   "metadata": {
    "collapsed": false
   },
   "source": [
    "## Load environment variables"
   ]
  },
  {
   "cell_type": "code",
   "execution_count": 5,
   "id": "ea454cded40760f2",
   "metadata": {
    "collapsed": false,
    "ExecuteTime": {
     "end_time": "2023-10-17T10:34:29.658002300Z",
     "start_time": "2023-10-17T10:34:29.453697900Z"
    }
   },
   "outputs": [
    {
     "data": {
      "text/plain": "('C:\\\\Users\\\\Maarten Boon\\\\Documents\\\\projects\\\\Title-detection-using-ml\\\\data\\\\test',\n 'C:\\\\Users\\\\Maarten Boon\\\\Documents\\\\projects\\\\Title-detection-using-ml\\\\data\\\\train')"
     },
     "execution_count": 5,
     "metadata": {},
     "output_type": "execute_result"
    }
   ],
   "source": [
    "dotenv.load_dotenv()\n",
    "TEST_PATH = os.getenv(\"TEST_PATH\")\n",
    "TRAIN_PATH = os.getenv(\"TRAIN_PATH\")\n",
    "\n",
    "TEST_PATH_RAW, TRAIN_PATH_RAW = (os.path.join(p, \"raw\") for p in (TEST_PATH, TRAIN_PATH))\n",
    "\n",
    "TEST_PATH_PROCESSED, TRAIN_PATH_PROCESSED = (os.path.join(p, \"processed\") for p in (TEST_PATH, TRAIN_PATH))\n",
    "\n",
    "TEST_PATH, TRAIN_PATH"
   ]
  },
  {
   "cell_type": "markdown",
   "id": "f358c96dcdd11927",
   "metadata": {
    "collapsed": false
   },
   "source": [
    "## Load data"
   ]
  },
  {
   "cell_type": "code",
   "execution_count": 6,
   "id": "f6260a0693c40271",
   "metadata": {
    "collapsed": false,
    "ExecuteTime": {
     "end_time": "2023-10-17T10:34:29.678003900Z",
     "start_time": "2023-10-17T10:34:29.469152500Z"
    }
   },
   "outputs": [
    {
     "data": {
      "text/plain": "(1, 17)"
     },
     "execution_count": 6,
     "metadata": {},
     "output_type": "execute_result"
    }
   ],
   "source": [
    "def filenames(path) -> list:\n",
    "    return [os.path.join(path, f) for f in os.listdir(path) if os.path.isfile(os.path.join(path, f))]\n",
    "\n",
    "len(filenames(TEST_PATH_RAW)), len(filenames(TRAIN_PATH_RAW))"
   ]
  },
  {
   "cell_type": "code",
   "execution_count": 7,
   "id": "bfa2a7adf117ab99",
   "metadata": {
    "collapsed": false,
    "ExecuteTime": {
     "end_time": "2023-10-17T10:34:50.217498100Z",
     "start_time": "2023-10-17T10:34:29.494007200Z"
    }
   },
   "outputs": [
    {
     "data": {
      "text/plain": "                                               filename  \\\n0     C:\\Users\\Maarten Boon\\Documents\\projects\\Title...   \n1     C:\\Users\\Maarten Boon\\Documents\\projects\\Title...   \n2     C:\\Users\\Maarten Boon\\Documents\\projects\\Title...   \n3     C:\\Users\\Maarten Boon\\Documents\\projects\\Title...   \n4     C:\\Users\\Maarten Boon\\Documents\\projects\\Title...   \n...                                                 ...   \n3761  C:\\Users\\Maarten Boon\\Documents\\projects\\Title...   \n3762  C:\\Users\\Maarten Boon\\Documents\\projects\\Title...   \n3763  C:\\Users\\Maarten Boon\\Documents\\projects\\Title...   \n3764  C:\\Users\\Maarten Boon\\Documents\\projects\\Title...   \n3765  C:\\Users\\Maarten Boon\\Documents\\projects\\Title...   \n\n                                                   text  position color  \\\n0                                         Database APIs         1  None   \n1                         Database System Architectures         5  None   \n2                                         Database APIs         7  None   \n3      Object Persistence and Object Relational Mappers         9  None   \n4                                              Exercise        12  None   \n...                                                 ...       ...   ...   \n3761  Werk voor het converteren wordt verdeeld over ...      8647  None   \n3762                                            Bronnen      9409  None   \n3763  Andrew S. Tanenbaum and Herbert Bos. 2014. Mod...      9411  None   \n3764  William Stallings. 2018. Operating Systems: In...      9414  None   \n3765  Tanenbaum & Austin, 2013. Structured Computer ...      9417  None   \n\n            font  size  length  fileLength  \n0     Montserrat    43      13       29623  \n1        Calibri    18      29       29623  \n2        Calibri    18      13       29623  \n3        Calibri    18      47       29623  \n4        Calibri    18       8       29623  \n...          ...   ...     ...         ...  \n3761  Montserrat    12      80       20133  \n3762  Montserrat    19       7       20133  \n3763  Montserrat     7     103       20133  \n3764  Montserrat     7     144       20133  \n3765  Montserrat     7      83       20133  \n\n[3766 rows x 8 columns]",
      "text/html": "<div>\n<style scoped>\n    .dataframe tbody tr th:only-of-type {\n        vertical-align: middle;\n    }\n\n    .dataframe tbody tr th {\n        vertical-align: top;\n    }\n\n    .dataframe thead th {\n        text-align: right;\n    }\n</style>\n<table border=\"1\" class=\"dataframe\">\n  <thead>\n    <tr style=\"text-align: right;\">\n      <th></th>\n      <th>filename</th>\n      <th>text</th>\n      <th>position</th>\n      <th>color</th>\n      <th>font</th>\n      <th>size</th>\n      <th>length</th>\n      <th>fileLength</th>\n    </tr>\n  </thead>\n  <tbody>\n    <tr>\n      <th>0</th>\n      <td>C:\\Users\\Maarten Boon\\Documents\\projects\\Title...</td>\n      <td>Database APIs</td>\n      <td>1</td>\n      <td>None</td>\n      <td>Montserrat</td>\n      <td>43</td>\n      <td>13</td>\n      <td>29623</td>\n    </tr>\n    <tr>\n      <th>1</th>\n      <td>C:\\Users\\Maarten Boon\\Documents\\projects\\Title...</td>\n      <td>Database System Architectures</td>\n      <td>5</td>\n      <td>None</td>\n      <td>Calibri</td>\n      <td>18</td>\n      <td>29</td>\n      <td>29623</td>\n    </tr>\n    <tr>\n      <th>2</th>\n      <td>C:\\Users\\Maarten Boon\\Documents\\projects\\Title...</td>\n      <td>Database APIs</td>\n      <td>7</td>\n      <td>None</td>\n      <td>Calibri</td>\n      <td>18</td>\n      <td>13</td>\n      <td>29623</td>\n    </tr>\n    <tr>\n      <th>3</th>\n      <td>C:\\Users\\Maarten Boon\\Documents\\projects\\Title...</td>\n      <td>Object Persistence and Object Relational Mappers</td>\n      <td>9</td>\n      <td>None</td>\n      <td>Calibri</td>\n      <td>18</td>\n      <td>47</td>\n      <td>29623</td>\n    </tr>\n    <tr>\n      <th>4</th>\n      <td>C:\\Users\\Maarten Boon\\Documents\\projects\\Title...</td>\n      <td>Exercise</td>\n      <td>12</td>\n      <td>None</td>\n      <td>Calibri</td>\n      <td>18</td>\n      <td>8</td>\n      <td>29623</td>\n    </tr>\n    <tr>\n      <th>...</th>\n      <td>...</td>\n      <td>...</td>\n      <td>...</td>\n      <td>...</td>\n      <td>...</td>\n      <td>...</td>\n      <td>...</td>\n      <td>...</td>\n    </tr>\n    <tr>\n      <th>3761</th>\n      <td>C:\\Users\\Maarten Boon\\Documents\\projects\\Title...</td>\n      <td>Werk voor het converteren wordt verdeeld over ...</td>\n      <td>8647</td>\n      <td>None</td>\n      <td>Montserrat</td>\n      <td>12</td>\n      <td>80</td>\n      <td>20133</td>\n    </tr>\n    <tr>\n      <th>3762</th>\n      <td>C:\\Users\\Maarten Boon\\Documents\\projects\\Title...</td>\n      <td>Bronnen</td>\n      <td>9409</td>\n      <td>None</td>\n      <td>Montserrat</td>\n      <td>19</td>\n      <td>7</td>\n      <td>20133</td>\n    </tr>\n    <tr>\n      <th>3763</th>\n      <td>C:\\Users\\Maarten Boon\\Documents\\projects\\Title...</td>\n      <td>Andrew S. Tanenbaum and Herbert Bos. 2014. Mod...</td>\n      <td>9411</td>\n      <td>None</td>\n      <td>Montserrat</td>\n      <td>7</td>\n      <td>103</td>\n      <td>20133</td>\n    </tr>\n    <tr>\n      <th>3764</th>\n      <td>C:\\Users\\Maarten Boon\\Documents\\projects\\Title...</td>\n      <td>William Stallings. 2018. Operating Systems: In...</td>\n      <td>9414</td>\n      <td>None</td>\n      <td>Montserrat</td>\n      <td>7</td>\n      <td>144</td>\n      <td>20133</td>\n    </tr>\n    <tr>\n      <th>3765</th>\n      <td>C:\\Users\\Maarten Boon\\Documents\\projects\\Title...</td>\n      <td>Tanenbaum &amp; Austin, 2013. Structured Computer ...</td>\n      <td>9417</td>\n      <td>None</td>\n      <td>Montserrat</td>\n      <td>7</td>\n      <td>83</td>\n      <td>20133</td>\n    </tr>\n  </tbody>\n</table>\n<p>3766 rows × 8 columns</p>\n</div>"
     },
     "execution_count": 7,
     "metadata": {},
     "output_type": "execute_result"
    }
   ],
   "source": [
    "# noinspection PyUnresolvedReferences\n",
    "def open_pdf(document: FileStorage) -> str:\n",
    "    with tempfile.NamedTemporaryFile(delete=False) as temp_pdf:\n",
    "        temp_pdf.write(document.read())\n",
    "        temp_pdf_path = temp_pdf.name\n",
    "\n",
    "    # Create a PDF document object\n",
    "    pdf_document = fitz.open(temp_pdf_path, filetype=\"pdf\")\n",
    "\n",
    "    # Create an HTML representation from the PDF document\n",
    "    html_output: str = \"\"\n",
    "    for page_num in range(pdf_document.page_count):\n",
    "        page = pdf_document.load_page(page_num)\n",
    "        html_output += page.get_text(\"html\")\n",
    "\n",
    "    # Close the PDF document\n",
    "    pdf_document.close()\n",
    "    # Remove the temporary PDF file\n",
    "    os.remove(temp_pdf_path)\n",
    "    return html.unescape(html_output)\n",
    "\n",
    "\n",
    "def load_data(path) -> pd.DataFrame:\n",
    "    data = {\n",
    "        \"filename\": [],\n",
    "        \"text\": [],\n",
    "        \"position\": [],\n",
    "        \"color\": [],\n",
    "        \"font\": [],\n",
    "        \"size\": [],\n",
    "        \"length\": [],\n",
    "        \"fileLength\": []\n",
    "    }\n",
    "    for filename in filenames(path):\n",
    "        for k, v in load_singular(filename).items():\n",
    "            data[k] = data[k] + v\n",
    "    \n",
    "    return pd.DataFrame(data)\n",
    "\n",
    "def load_singular(filename) -> dict:\n",
    "    # Load the file as pdf\n",
    "    data = {\n",
    "        \"filename\": [],\n",
    "        \"text\": [],\n",
    "        \"position\": [],\n",
    "        \"color\": [],\n",
    "        \"font\": [],\n",
    "        \"size\": [],\n",
    "        \"length\": [],\n",
    "        \"fileLength\": []\n",
    "    }\n",
    "    # Load the pdf\n",
    "    filestream = open(filename, \"rb\")\n",
    "    file = FileStorage(\n",
    "        filestream, filename=filestream.name, content_type=\"application/pdf\"\n",
    "    )\n",
    "    html_output = open_pdf(file)\n",
    "    # Now, we have the html output, we can start processing it\n",
    "    split_html = html_output.split(\"\\n\")\n",
    "    prev_value = {\n",
    "        \"font-size\": None,\n",
    "        \"text\": \"\",\n",
    "        \"font-family\": None,\n",
    "        \"color\": None,\n",
    "        \"position\": None,\n",
    "        \"length\": 0,\n",
    "        \"fileLength\": 0\n",
    "    }\n",
    "    for position, line in enumerate(split_html):\n",
    "        font_size = re.search(\"font-size:([0-9]+)\", line)\n",
    "        # Get the font size in pixels as an int\n",
    "        font_size = int(font_size.group(1)) if font_size else -1\n",
    "\n",
    "        # Get the font family\n",
    "        font_family = re.search(\"font-family:([a-zA-Z0-9]+)\", line)\n",
    "        font_family = font_family.group(1) if font_family else None\n",
    "\n",
    "        # Get the color\n",
    "        color = re.search(r\"color:([a-zA-Z0-9]+|#[a-fA-F0-9]{6})\", line)\n",
    "        color = color.group(1) if color else None\n",
    "\n",
    "        # Remove all tags\n",
    "        line = re.sub(\"<.*?>\", \"\", line, flags=re.DOTALL)\n",
    "\n",
    "        if line and 0 < len(line.strip()) and font_size > 0:\n",
    "            line_value = {\n",
    "                \"font-size\": font_size,\n",
    "                \"text\": line.strip(),\n",
    "                \"font-family\": font_family,\n",
    "                \"color\": color,\n",
    "                \"position\": position,\n",
    "                \"length\": len(line.strip()),\n",
    "            }\n",
    "            # Check if the current line is the same as the previous line\n",
    "            if (\n",
    "                    prev_value[\"font-size\"] == line_value[\"font-size\"]\n",
    "                    and prev_value[\"font-family\"] == line_value[\"font-family\"]\n",
    "                    and prev_value[\"color\"] == line_value[\"color\"]\n",
    "            ):\n",
    "                prev_value[\"text\"] += \" \" + line_value[\"text\"]\n",
    "                prev_value[\"length\"] += line_value[\"length\"]\n",
    "            else:\n",
    "                if prev_value[\"text\"] and 2 < prev_value[\"length\"] :\n",
    "                    # Add the previous value to the data\n",
    "                    data[\"filename\"].append(filename)\n",
    "                    data[\"text\"].append(prev_value[\"text\"])\n",
    "                    data[\"position\"].append(prev_value[\"position\"])\n",
    "                    data[\"color\"].append(prev_value[\"color\"])\n",
    "                    data[\"font\"].append(prev_value[\"font-family\"])\n",
    "                    data[\"size\"].append(prev_value[\"font-size\"])\n",
    "                    data[\"length\"].append(prev_value[\"length\"])\n",
    "                prev_value = line_value\n",
    "                \n",
    "    file_length = sum(data[\"length\"])\n",
    "    data[\"fileLength\"] = [file_length for _ in range(len(data['size']))]\n",
    "    return data\n",
    "\n",
    "train_data = load_data(TRAIN_PATH_RAW)\n",
    "train_data"
   ]
  },
  {
   "cell_type": "code",
   "execution_count": 8,
   "id": "f8b5638d6a8f4330",
   "metadata": {
    "collapsed": false,
    "ExecuteTime": {
     "end_time": "2023-10-17T10:34:52.744650400Z",
     "start_time": "2023-10-17T10:34:50.225500400Z"
    }
   },
   "outputs": [
    {
     "data": {
      "text/plain": "                                              filename  \\\n0    C:\\Users\\Maarten Boon\\Documents\\projects\\Title...   \n1    C:\\Users\\Maarten Boon\\Documents\\projects\\Title...   \n2    C:\\Users\\Maarten Boon\\Documents\\projects\\Title...   \n3    C:\\Users\\Maarten Boon\\Documents\\projects\\Title...   \n4    C:\\Users\\Maarten Boon\\Documents\\projects\\Title...   \n..                                                 ...   \n589  C:\\Users\\Maarten Boon\\Documents\\projects\\Title...   \n590  C:\\Users\\Maarten Boon\\Documents\\projects\\Title...   \n591  C:\\Users\\Maarten Boon\\Documents\\projects\\Title...   \n592  C:\\Users\\Maarten Boon\\Documents\\projects\\Title...   \n593  C:\\Users\\Maarten Boon\\Documents\\projects\\Title...   \n\n                                                  text  position    color  \\\n0                                        Inhoudsopgave         1     None   \n1                                        INHOUDSOPGAVE         6  #ffffff   \n2    Inhoudsopgave ...................................         7     None   \n3                                            VOORWOORD      2239  #ffffff   \n4    Beste lezer Ondernemerschap vertaalt zich in v...      2240     None   \n..                                                 ...       ...      ...   \n589                        LIJST MET GEBRUIKTE FIGUREN     84285     None   \n590  Figuur 1 - model balans .........................     84286     None   \n591  GEBRUIKTE AFBEELDINGEN VAN UNSPLASH Dank aan v...     84305     None   \n592                    Bibliografie Pagina 106 van 107     84314     None   \n593                                  GEBRUIKTE BRONNEN     84316     None   \n\n           font  size  length  fileLength  \n0    Montserrat    11      13      148759  \n1    Montserrat    11      13      148759  \n2    Montserrat    11    4737      148759  \n3    Montserrat    11       9      148759  \n4    Montserrat    10    1649      148759  \n..          ...   ...     ...         ...  \n589  Montserrat    10      27      148759  \n590  Montserrat    11    2783      148759  \n591  Montserrat    10     290      148759  \n592  Montserrat    11      30      148759  \n593  Montserrat    10      17      148759  \n\n[594 rows x 8 columns]",
      "text/html": "<div>\n<style scoped>\n    .dataframe tbody tr th:only-of-type {\n        vertical-align: middle;\n    }\n\n    .dataframe tbody tr th {\n        vertical-align: top;\n    }\n\n    .dataframe thead th {\n        text-align: right;\n    }\n</style>\n<table border=\"1\" class=\"dataframe\">\n  <thead>\n    <tr style=\"text-align: right;\">\n      <th></th>\n      <th>filename</th>\n      <th>text</th>\n      <th>position</th>\n      <th>color</th>\n      <th>font</th>\n      <th>size</th>\n      <th>length</th>\n      <th>fileLength</th>\n    </tr>\n  </thead>\n  <tbody>\n    <tr>\n      <th>0</th>\n      <td>C:\\Users\\Maarten Boon\\Documents\\projects\\Title...</td>\n      <td>Inhoudsopgave</td>\n      <td>1</td>\n      <td>None</td>\n      <td>Montserrat</td>\n      <td>11</td>\n      <td>13</td>\n      <td>148759</td>\n    </tr>\n    <tr>\n      <th>1</th>\n      <td>C:\\Users\\Maarten Boon\\Documents\\projects\\Title...</td>\n      <td>INHOUDSOPGAVE</td>\n      <td>6</td>\n      <td>#ffffff</td>\n      <td>Montserrat</td>\n      <td>11</td>\n      <td>13</td>\n      <td>148759</td>\n    </tr>\n    <tr>\n      <th>2</th>\n      <td>C:\\Users\\Maarten Boon\\Documents\\projects\\Title...</td>\n      <td>Inhoudsopgave ...................................</td>\n      <td>7</td>\n      <td>None</td>\n      <td>Montserrat</td>\n      <td>11</td>\n      <td>4737</td>\n      <td>148759</td>\n    </tr>\n    <tr>\n      <th>3</th>\n      <td>C:\\Users\\Maarten Boon\\Documents\\projects\\Title...</td>\n      <td>VOORWOORD</td>\n      <td>2239</td>\n      <td>#ffffff</td>\n      <td>Montserrat</td>\n      <td>11</td>\n      <td>9</td>\n      <td>148759</td>\n    </tr>\n    <tr>\n      <th>4</th>\n      <td>C:\\Users\\Maarten Boon\\Documents\\projects\\Title...</td>\n      <td>Beste lezer Ondernemerschap vertaalt zich in v...</td>\n      <td>2240</td>\n      <td>None</td>\n      <td>Montserrat</td>\n      <td>10</td>\n      <td>1649</td>\n      <td>148759</td>\n    </tr>\n    <tr>\n      <th>...</th>\n      <td>...</td>\n      <td>...</td>\n      <td>...</td>\n      <td>...</td>\n      <td>...</td>\n      <td>...</td>\n      <td>...</td>\n      <td>...</td>\n    </tr>\n    <tr>\n      <th>589</th>\n      <td>C:\\Users\\Maarten Boon\\Documents\\projects\\Title...</td>\n      <td>LIJST MET GEBRUIKTE FIGUREN</td>\n      <td>84285</td>\n      <td>None</td>\n      <td>Montserrat</td>\n      <td>10</td>\n      <td>27</td>\n      <td>148759</td>\n    </tr>\n    <tr>\n      <th>590</th>\n      <td>C:\\Users\\Maarten Boon\\Documents\\projects\\Title...</td>\n      <td>Figuur 1 - model balans .........................</td>\n      <td>84286</td>\n      <td>None</td>\n      <td>Montserrat</td>\n      <td>11</td>\n      <td>2783</td>\n      <td>148759</td>\n    </tr>\n    <tr>\n      <th>591</th>\n      <td>C:\\Users\\Maarten Boon\\Documents\\projects\\Title...</td>\n      <td>GEBRUIKTE AFBEELDINGEN VAN UNSPLASH Dank aan v...</td>\n      <td>84305</td>\n      <td>None</td>\n      <td>Montserrat</td>\n      <td>10</td>\n      <td>290</td>\n      <td>148759</td>\n    </tr>\n    <tr>\n      <th>592</th>\n      <td>C:\\Users\\Maarten Boon\\Documents\\projects\\Title...</td>\n      <td>Bibliografie Pagina 106 van 107</td>\n      <td>84314</td>\n      <td>None</td>\n      <td>Montserrat</td>\n      <td>11</td>\n      <td>30</td>\n      <td>148759</td>\n    </tr>\n    <tr>\n      <th>593</th>\n      <td>C:\\Users\\Maarten Boon\\Documents\\projects\\Title...</td>\n      <td>GEBRUIKTE BRONNEN</td>\n      <td>84316</td>\n      <td>None</td>\n      <td>Montserrat</td>\n      <td>10</td>\n      <td>17</td>\n      <td>148759</td>\n    </tr>\n  </tbody>\n</table>\n<p>594 rows × 8 columns</p>\n</div>"
     },
     "execution_count": 8,
     "metadata": {},
     "output_type": "execute_result"
    }
   ],
   "source": [
    "# Do the same for test\n",
    "test_data = load_data(TEST_PATH_RAW)\n",
    "test_data"
   ]
  },
  {
   "cell_type": "markdown",
   "id": "19638d99539b4124",
   "metadata": {
    "collapsed": false
   },
   "source": [
    "## Add as a csv"
   ]
  },
  {
   "cell_type": "code",
   "execution_count": 9,
   "id": "25e4269f06d61d3b",
   "metadata": {
    "collapsed": false,
    "ExecuteTime": {
     "end_time": "2023-10-17T10:34:52.878081700Z",
     "start_time": "2023-10-17T10:34:52.747812100Z"
    }
   },
   "outputs": [],
   "source": [
    "STEP1_NAME = \"step1.csv\"\n",
    "TEST_STEP1, TRAIN_STEP1 = (\n",
    "    os.path.join(TEST_PATH_PROCESSED, STEP1_NAME),\n",
    "    os.path.join(TRAIN_PATH_PROCESSED, STEP1_NAME)\n",
    ")\n",
    "for d, p in zip(\n",
    "    [\n",
    "        test_data,\n",
    "        train_data\n",
    "    ],\n",
    "    [\n",
    "        TEST_STEP1,\n",
    "        TRAIN_STEP1\n",
    "    ]\n",
    "):\n",
    "    d.to_csv(\n",
    "        p,\n",
    "        header=True,\n",
    "        index=False,\n",
    "    )"
   ]
  },
  {
   "cell_type": "markdown",
   "id": "8daaf8caa5e9489e",
   "metadata": {
    "collapsed": false
   },
   "source": [
    "## Step 2: Label the data, and save the information every so often."
   ]
  },
  {
   "cell_type": "markdown",
   "id": "df74bee2b9097908",
   "metadata": {
    "collapsed": false
   },
   "source": [
    "### Reload the data"
   ]
  },
  {
   "cell_type": "code",
   "execution_count": 10,
   "id": "4a1dcef411af50b6",
   "metadata": {
    "collapsed": false,
    "ExecuteTime": {
     "end_time": "2023-10-17T10:34:52.912507300Z",
     "start_time": "2023-10-17T10:34:52.808383800Z"
    }
   },
   "outputs": [
    {
     "data": {
      "text/plain": "                                              filename  \\\n0    C:\\Users\\Maarten Boon\\Documents\\projects\\Title...   \n1    C:\\Users\\Maarten Boon\\Documents\\projects\\Title...   \n2    C:\\Users\\Maarten Boon\\Documents\\projects\\Title...   \n3    C:\\Users\\Maarten Boon\\Documents\\projects\\Title...   \n4    C:\\Users\\Maarten Boon\\Documents\\projects\\Title...   \n..                                                 ...   \n589  C:\\Users\\Maarten Boon\\Documents\\projects\\Title...   \n590  C:\\Users\\Maarten Boon\\Documents\\projects\\Title...   \n591  C:\\Users\\Maarten Boon\\Documents\\projects\\Title...   \n592  C:\\Users\\Maarten Boon\\Documents\\projects\\Title...   \n593  C:\\Users\\Maarten Boon\\Documents\\projects\\Title...   \n\n                                                  text  position    color  \\\n0                                        Inhoudsopgave         1      NaN   \n1                                        INHOUDSOPGAVE         6  #ffffff   \n2    Inhoudsopgave ...................................         7      NaN   \n3                                            VOORWOORD      2239  #ffffff   \n4    Beste lezer Ondernemerschap vertaalt zich in v...      2240      NaN   \n..                                                 ...       ...      ...   \n589                        LIJST MET GEBRUIKTE FIGUREN     84285      NaN   \n590  Figuur 1 - model balans .........................     84286      NaN   \n591  GEBRUIKTE AFBEELDINGEN VAN UNSPLASH Dank aan v...     84305      NaN   \n592                    Bibliografie Pagina 106 van 107     84314      NaN   \n593                                  GEBRUIKTE BRONNEN     84316      NaN   \n\n           font  size  length  fileLength  \n0    Montserrat    11      13      148759  \n1    Montserrat    11      13      148759  \n2    Montserrat    11    4737      148759  \n3    Montserrat    11       9      148759  \n4    Montserrat    10    1649      148759  \n..          ...   ...     ...         ...  \n589  Montserrat    10      27      148759  \n590  Montserrat    11    2783      148759  \n591  Montserrat    10     290      148759  \n592  Montserrat    11      30      148759  \n593  Montserrat    10      17      148759  \n\n[594 rows x 8 columns]",
      "text/html": "<div>\n<style scoped>\n    .dataframe tbody tr th:only-of-type {\n        vertical-align: middle;\n    }\n\n    .dataframe tbody tr th {\n        vertical-align: top;\n    }\n\n    .dataframe thead th {\n        text-align: right;\n    }\n</style>\n<table border=\"1\" class=\"dataframe\">\n  <thead>\n    <tr style=\"text-align: right;\">\n      <th></th>\n      <th>filename</th>\n      <th>text</th>\n      <th>position</th>\n      <th>color</th>\n      <th>font</th>\n      <th>size</th>\n      <th>length</th>\n      <th>fileLength</th>\n    </tr>\n  </thead>\n  <tbody>\n    <tr>\n      <th>0</th>\n      <td>C:\\Users\\Maarten Boon\\Documents\\projects\\Title...</td>\n      <td>Inhoudsopgave</td>\n      <td>1</td>\n      <td>NaN</td>\n      <td>Montserrat</td>\n      <td>11</td>\n      <td>13</td>\n      <td>148759</td>\n    </tr>\n    <tr>\n      <th>1</th>\n      <td>C:\\Users\\Maarten Boon\\Documents\\projects\\Title...</td>\n      <td>INHOUDSOPGAVE</td>\n      <td>6</td>\n      <td>#ffffff</td>\n      <td>Montserrat</td>\n      <td>11</td>\n      <td>13</td>\n      <td>148759</td>\n    </tr>\n    <tr>\n      <th>2</th>\n      <td>C:\\Users\\Maarten Boon\\Documents\\projects\\Title...</td>\n      <td>Inhoudsopgave ...................................</td>\n      <td>7</td>\n      <td>NaN</td>\n      <td>Montserrat</td>\n      <td>11</td>\n      <td>4737</td>\n      <td>148759</td>\n    </tr>\n    <tr>\n      <th>3</th>\n      <td>C:\\Users\\Maarten Boon\\Documents\\projects\\Title...</td>\n      <td>VOORWOORD</td>\n      <td>2239</td>\n      <td>#ffffff</td>\n      <td>Montserrat</td>\n      <td>11</td>\n      <td>9</td>\n      <td>148759</td>\n    </tr>\n    <tr>\n      <th>4</th>\n      <td>C:\\Users\\Maarten Boon\\Documents\\projects\\Title...</td>\n      <td>Beste lezer Ondernemerschap vertaalt zich in v...</td>\n      <td>2240</td>\n      <td>NaN</td>\n      <td>Montserrat</td>\n      <td>10</td>\n      <td>1649</td>\n      <td>148759</td>\n    </tr>\n    <tr>\n      <th>...</th>\n      <td>...</td>\n      <td>...</td>\n      <td>...</td>\n      <td>...</td>\n      <td>...</td>\n      <td>...</td>\n      <td>...</td>\n      <td>...</td>\n    </tr>\n    <tr>\n      <th>589</th>\n      <td>C:\\Users\\Maarten Boon\\Documents\\projects\\Title...</td>\n      <td>LIJST MET GEBRUIKTE FIGUREN</td>\n      <td>84285</td>\n      <td>NaN</td>\n      <td>Montserrat</td>\n      <td>10</td>\n      <td>27</td>\n      <td>148759</td>\n    </tr>\n    <tr>\n      <th>590</th>\n      <td>C:\\Users\\Maarten Boon\\Documents\\projects\\Title...</td>\n      <td>Figuur 1 - model balans .........................</td>\n      <td>84286</td>\n      <td>NaN</td>\n      <td>Montserrat</td>\n      <td>11</td>\n      <td>2783</td>\n      <td>148759</td>\n    </tr>\n    <tr>\n      <th>591</th>\n      <td>C:\\Users\\Maarten Boon\\Documents\\projects\\Title...</td>\n      <td>GEBRUIKTE AFBEELDINGEN VAN UNSPLASH Dank aan v...</td>\n      <td>84305</td>\n      <td>NaN</td>\n      <td>Montserrat</td>\n      <td>10</td>\n      <td>290</td>\n      <td>148759</td>\n    </tr>\n    <tr>\n      <th>592</th>\n      <td>C:\\Users\\Maarten Boon\\Documents\\projects\\Title...</td>\n      <td>Bibliografie Pagina 106 van 107</td>\n      <td>84314</td>\n      <td>NaN</td>\n      <td>Montserrat</td>\n      <td>11</td>\n      <td>30</td>\n      <td>148759</td>\n    </tr>\n    <tr>\n      <th>593</th>\n      <td>C:\\Users\\Maarten Boon\\Documents\\projects\\Title...</td>\n      <td>GEBRUIKTE BRONNEN</td>\n      <td>84316</td>\n      <td>NaN</td>\n      <td>Montserrat</td>\n      <td>10</td>\n      <td>17</td>\n      <td>148759</td>\n    </tr>\n  </tbody>\n</table>\n<p>594 rows × 8 columns</p>\n</div>"
     },
     "execution_count": 10,
     "metadata": {},
     "output_type": "execute_result"
    }
   ],
   "source": [
    "test_data = pd.read_csv(TEST_STEP1)\n",
    "test_data"
   ]
  },
  {
   "cell_type": "code",
   "execution_count": 11,
   "id": "5f338c09e0e162b5",
   "metadata": {
    "collapsed": false,
    "ExecuteTime": {
     "end_time": "2023-10-17T10:34:52.916506Z",
     "start_time": "2023-10-17T10:34:52.838082500Z"
    }
   },
   "outputs": [
    {
     "data": {
      "text/plain": "                                               filename  \\\n0     C:\\Users\\Maarten Boon\\Documents\\projects\\Title...   \n1     C:\\Users\\Maarten Boon\\Documents\\projects\\Title...   \n2     C:\\Users\\Maarten Boon\\Documents\\projects\\Title...   \n3     C:\\Users\\Maarten Boon\\Documents\\projects\\Title...   \n4     C:\\Users\\Maarten Boon\\Documents\\projects\\Title...   \n...                                                 ...   \n3761  C:\\Users\\Maarten Boon\\Documents\\projects\\Title...   \n3762  C:\\Users\\Maarten Boon\\Documents\\projects\\Title...   \n3763  C:\\Users\\Maarten Boon\\Documents\\projects\\Title...   \n3764  C:\\Users\\Maarten Boon\\Documents\\projects\\Title...   \n3765  C:\\Users\\Maarten Boon\\Documents\\projects\\Title...   \n\n                                                   text  position color  \\\n0                                         Database APIs         1   NaN   \n1                         Database System Architectures         5   NaN   \n2                                         Database APIs         7   NaN   \n3      Object Persistence and Object Relational Mappers         9   NaN   \n4                                              Exercise        12   NaN   \n...                                                 ...       ...   ...   \n3761  Werk voor het converteren wordt verdeeld over ...      8647   NaN   \n3762                                            Bronnen      9409   NaN   \n3763  Andrew S. Tanenbaum and Herbert Bos. 2014. Mod...      9411   NaN   \n3764  William Stallings. 2018. Operating Systems: In...      9414   NaN   \n3765  Tanenbaum & Austin, 2013. Structured Computer ...      9417   NaN   \n\n            font  size  length  fileLength  \n0     Montserrat    43      13       29623  \n1        Calibri    18      29       29623  \n2        Calibri    18      13       29623  \n3        Calibri    18      47       29623  \n4        Calibri    18       8       29623  \n...          ...   ...     ...         ...  \n3761  Montserrat    12      80       20133  \n3762  Montserrat    19       7       20133  \n3763  Montserrat     7     103       20133  \n3764  Montserrat     7     144       20133  \n3765  Montserrat     7      83       20133  \n\n[3766 rows x 8 columns]",
      "text/html": "<div>\n<style scoped>\n    .dataframe tbody tr th:only-of-type {\n        vertical-align: middle;\n    }\n\n    .dataframe tbody tr th {\n        vertical-align: top;\n    }\n\n    .dataframe thead th {\n        text-align: right;\n    }\n</style>\n<table border=\"1\" class=\"dataframe\">\n  <thead>\n    <tr style=\"text-align: right;\">\n      <th></th>\n      <th>filename</th>\n      <th>text</th>\n      <th>position</th>\n      <th>color</th>\n      <th>font</th>\n      <th>size</th>\n      <th>length</th>\n      <th>fileLength</th>\n    </tr>\n  </thead>\n  <tbody>\n    <tr>\n      <th>0</th>\n      <td>C:\\Users\\Maarten Boon\\Documents\\projects\\Title...</td>\n      <td>Database APIs</td>\n      <td>1</td>\n      <td>NaN</td>\n      <td>Montserrat</td>\n      <td>43</td>\n      <td>13</td>\n      <td>29623</td>\n    </tr>\n    <tr>\n      <th>1</th>\n      <td>C:\\Users\\Maarten Boon\\Documents\\projects\\Title...</td>\n      <td>Database System Architectures</td>\n      <td>5</td>\n      <td>NaN</td>\n      <td>Calibri</td>\n      <td>18</td>\n      <td>29</td>\n      <td>29623</td>\n    </tr>\n    <tr>\n      <th>2</th>\n      <td>C:\\Users\\Maarten Boon\\Documents\\projects\\Title...</td>\n      <td>Database APIs</td>\n      <td>7</td>\n      <td>NaN</td>\n      <td>Calibri</td>\n      <td>18</td>\n      <td>13</td>\n      <td>29623</td>\n    </tr>\n    <tr>\n      <th>3</th>\n      <td>C:\\Users\\Maarten Boon\\Documents\\projects\\Title...</td>\n      <td>Object Persistence and Object Relational Mappers</td>\n      <td>9</td>\n      <td>NaN</td>\n      <td>Calibri</td>\n      <td>18</td>\n      <td>47</td>\n      <td>29623</td>\n    </tr>\n    <tr>\n      <th>4</th>\n      <td>C:\\Users\\Maarten Boon\\Documents\\projects\\Title...</td>\n      <td>Exercise</td>\n      <td>12</td>\n      <td>NaN</td>\n      <td>Calibri</td>\n      <td>18</td>\n      <td>8</td>\n      <td>29623</td>\n    </tr>\n    <tr>\n      <th>...</th>\n      <td>...</td>\n      <td>...</td>\n      <td>...</td>\n      <td>...</td>\n      <td>...</td>\n      <td>...</td>\n      <td>...</td>\n      <td>...</td>\n    </tr>\n    <tr>\n      <th>3761</th>\n      <td>C:\\Users\\Maarten Boon\\Documents\\projects\\Title...</td>\n      <td>Werk voor het converteren wordt verdeeld over ...</td>\n      <td>8647</td>\n      <td>NaN</td>\n      <td>Montserrat</td>\n      <td>12</td>\n      <td>80</td>\n      <td>20133</td>\n    </tr>\n    <tr>\n      <th>3762</th>\n      <td>C:\\Users\\Maarten Boon\\Documents\\projects\\Title...</td>\n      <td>Bronnen</td>\n      <td>9409</td>\n      <td>NaN</td>\n      <td>Montserrat</td>\n      <td>19</td>\n      <td>7</td>\n      <td>20133</td>\n    </tr>\n    <tr>\n      <th>3763</th>\n      <td>C:\\Users\\Maarten Boon\\Documents\\projects\\Title...</td>\n      <td>Andrew S. Tanenbaum and Herbert Bos. 2014. Mod...</td>\n      <td>9411</td>\n      <td>NaN</td>\n      <td>Montserrat</td>\n      <td>7</td>\n      <td>103</td>\n      <td>20133</td>\n    </tr>\n    <tr>\n      <th>3764</th>\n      <td>C:\\Users\\Maarten Boon\\Documents\\projects\\Title...</td>\n      <td>William Stallings. 2018. Operating Systems: In...</td>\n      <td>9414</td>\n      <td>NaN</td>\n      <td>Montserrat</td>\n      <td>7</td>\n      <td>144</td>\n      <td>20133</td>\n    </tr>\n    <tr>\n      <th>3765</th>\n      <td>C:\\Users\\Maarten Boon\\Documents\\projects\\Title...</td>\n      <td>Tanenbaum &amp; Austin, 2013. Structured Computer ...</td>\n      <td>9417</td>\n      <td>NaN</td>\n      <td>Montserrat</td>\n      <td>7</td>\n      <td>83</td>\n      <td>20133</td>\n    </tr>\n  </tbody>\n</table>\n<p>3766 rows × 8 columns</p>\n</div>"
     },
     "execution_count": 11,
     "metadata": {},
     "output_type": "execute_result"
    }
   ],
   "source": [
    "train_data = pd.read_csv(TRAIN_STEP1)\n",
    "train_data"
   ]
  },
  {
   "cell_type": "markdown",
   "id": "a8b02cbe7e39a6f8",
   "metadata": {
    "collapsed": false
   },
   "source": [
    "### Run through the data"
   ]
  },
  {
   "cell_type": "code",
   "execution_count": 12,
   "id": "3ff1d112c73158c1",
   "metadata": {
    "collapsed": false,
    "ExecuteTime": {
     "end_time": "2023-10-17T10:34:53.055068900Z",
     "start_time": "2023-10-17T10:34:52.884508700Z"
    }
   },
   "outputs": [
    {
     "data": {
      "text/plain": "                                               filename  \\\n0     C:\\Users\\Maarten Boon\\Documents\\projects\\Title...   \n1     C:\\Users\\Maarten Boon\\Documents\\projects\\Title...   \n2     C:\\Users\\Maarten Boon\\Documents\\projects\\Title...   \n3     C:\\Users\\Maarten Boon\\Documents\\projects\\Title...   \n4     C:\\Users\\Maarten Boon\\Documents\\projects\\Title...   \n...                                                 ...   \n3761  C:\\Users\\Maarten Boon\\Documents\\projects\\Title...   \n3762  C:\\Users\\Maarten Boon\\Documents\\projects\\Title...   \n3763  C:\\Users\\Maarten Boon\\Documents\\projects\\Title...   \n3764  C:\\Users\\Maarten Boon\\Documents\\projects\\Title...   \n3765  C:\\Users\\Maarten Boon\\Documents\\projects\\Title...   \n\n                                                   text  position color  \\\n0                                         Database APIs         1   NaN   \n1                         Database System Architectures         5   NaN   \n2                                         Database APIs         7   NaN   \n3      Object Persistence and Object Relational Mappers         9   NaN   \n4                                              Exercise        12   NaN   \n...                                                 ...       ...   ...   \n3761  Werk voor het converteren wordt verdeeld over ...      8647   NaN   \n3762                                            Bronnen      9409   NaN   \n3763  Andrew S. Tanenbaum and Herbert Bos. 2014. Mod...      9411   NaN   \n3764  William Stallings. 2018. Operating Systems: In...      9414   NaN   \n3765  Tanenbaum & Austin, 2013. Structured Computer ...      9417   NaN   \n\n            font  size  length  fileLength               code  \n0     Montserrat    43      13       29623  Montserrat_43_nan  \n1        Calibri    18      29       29623     Calibri_18_nan  \n2        Calibri    18      13       29623     Calibri_18_nan  \n3        Calibri    18      47       29623     Calibri_18_nan  \n4        Calibri    18       8       29623     Calibri_18_nan  \n...          ...   ...     ...         ...                ...  \n3761  Montserrat    12      80       20133  Montserrat_12_nan  \n3762  Montserrat    19       7       20133  Montserrat_19_nan  \n3763  Montserrat     7     103       20133   Montserrat_7_nan  \n3764  Montserrat     7     144       20133   Montserrat_7_nan  \n3765  Montserrat     7      83       20133   Montserrat_7_nan  \n\n[3766 rows x 9 columns]",
      "text/html": "<div>\n<style scoped>\n    .dataframe tbody tr th:only-of-type {\n        vertical-align: middle;\n    }\n\n    .dataframe tbody tr th {\n        vertical-align: top;\n    }\n\n    .dataframe thead th {\n        text-align: right;\n    }\n</style>\n<table border=\"1\" class=\"dataframe\">\n  <thead>\n    <tr style=\"text-align: right;\">\n      <th></th>\n      <th>filename</th>\n      <th>text</th>\n      <th>position</th>\n      <th>color</th>\n      <th>font</th>\n      <th>size</th>\n      <th>length</th>\n      <th>fileLength</th>\n      <th>code</th>\n    </tr>\n  </thead>\n  <tbody>\n    <tr>\n      <th>0</th>\n      <td>C:\\Users\\Maarten Boon\\Documents\\projects\\Title...</td>\n      <td>Database APIs</td>\n      <td>1</td>\n      <td>NaN</td>\n      <td>Montserrat</td>\n      <td>43</td>\n      <td>13</td>\n      <td>29623</td>\n      <td>Montserrat_43_nan</td>\n    </tr>\n    <tr>\n      <th>1</th>\n      <td>C:\\Users\\Maarten Boon\\Documents\\projects\\Title...</td>\n      <td>Database System Architectures</td>\n      <td>5</td>\n      <td>NaN</td>\n      <td>Calibri</td>\n      <td>18</td>\n      <td>29</td>\n      <td>29623</td>\n      <td>Calibri_18_nan</td>\n    </tr>\n    <tr>\n      <th>2</th>\n      <td>C:\\Users\\Maarten Boon\\Documents\\projects\\Title...</td>\n      <td>Database APIs</td>\n      <td>7</td>\n      <td>NaN</td>\n      <td>Calibri</td>\n      <td>18</td>\n      <td>13</td>\n      <td>29623</td>\n      <td>Calibri_18_nan</td>\n    </tr>\n    <tr>\n      <th>3</th>\n      <td>C:\\Users\\Maarten Boon\\Documents\\projects\\Title...</td>\n      <td>Object Persistence and Object Relational Mappers</td>\n      <td>9</td>\n      <td>NaN</td>\n      <td>Calibri</td>\n      <td>18</td>\n      <td>47</td>\n      <td>29623</td>\n      <td>Calibri_18_nan</td>\n    </tr>\n    <tr>\n      <th>4</th>\n      <td>C:\\Users\\Maarten Boon\\Documents\\projects\\Title...</td>\n      <td>Exercise</td>\n      <td>12</td>\n      <td>NaN</td>\n      <td>Calibri</td>\n      <td>18</td>\n      <td>8</td>\n      <td>29623</td>\n      <td>Calibri_18_nan</td>\n    </tr>\n    <tr>\n      <th>...</th>\n      <td>...</td>\n      <td>...</td>\n      <td>...</td>\n      <td>...</td>\n      <td>...</td>\n      <td>...</td>\n      <td>...</td>\n      <td>...</td>\n      <td>...</td>\n    </tr>\n    <tr>\n      <th>3761</th>\n      <td>C:\\Users\\Maarten Boon\\Documents\\projects\\Title...</td>\n      <td>Werk voor het converteren wordt verdeeld over ...</td>\n      <td>8647</td>\n      <td>NaN</td>\n      <td>Montserrat</td>\n      <td>12</td>\n      <td>80</td>\n      <td>20133</td>\n      <td>Montserrat_12_nan</td>\n    </tr>\n    <tr>\n      <th>3762</th>\n      <td>C:\\Users\\Maarten Boon\\Documents\\projects\\Title...</td>\n      <td>Bronnen</td>\n      <td>9409</td>\n      <td>NaN</td>\n      <td>Montserrat</td>\n      <td>19</td>\n      <td>7</td>\n      <td>20133</td>\n      <td>Montserrat_19_nan</td>\n    </tr>\n    <tr>\n      <th>3763</th>\n      <td>C:\\Users\\Maarten Boon\\Documents\\projects\\Title...</td>\n      <td>Andrew S. Tanenbaum and Herbert Bos. 2014. Mod...</td>\n      <td>9411</td>\n      <td>NaN</td>\n      <td>Montserrat</td>\n      <td>7</td>\n      <td>103</td>\n      <td>20133</td>\n      <td>Montserrat_7_nan</td>\n    </tr>\n    <tr>\n      <th>3764</th>\n      <td>C:\\Users\\Maarten Boon\\Documents\\projects\\Title...</td>\n      <td>William Stallings. 2018. Operating Systems: In...</td>\n      <td>9414</td>\n      <td>NaN</td>\n      <td>Montserrat</td>\n      <td>7</td>\n      <td>144</td>\n      <td>20133</td>\n      <td>Montserrat_7_nan</td>\n    </tr>\n    <tr>\n      <th>3765</th>\n      <td>C:\\Users\\Maarten Boon\\Documents\\projects\\Title...</td>\n      <td>Tanenbaum &amp; Austin, 2013. Structured Computer ...</td>\n      <td>9417</td>\n      <td>NaN</td>\n      <td>Montserrat</td>\n      <td>7</td>\n      <td>83</td>\n      <td>20133</td>\n      <td>Montserrat_7_nan</td>\n    </tr>\n  </tbody>\n</table>\n<p>3766 rows × 9 columns</p>\n</div>"
     },
     "execution_count": 12,
     "metadata": {},
     "output_type": "execute_result"
    }
   ],
   "source": [
    "def generate_code(row):\n",
    "    return f\"{row['font']}_{row['size']}_{row['color']}\"\n",
    "\n",
    "for df in [train_data, test_data]:\n",
    "    # Create a function that generates a unique code for each style\n",
    "    df[\"code\"] = df.apply(generate_code, axis=1)\n",
    "\n",
    "train_data"
   ]
  }
 ],
 "metadata": {
  "kernelspec": {
   "display_name": "Python 3",
   "language": "python",
   "name": "python3"
  },
  "language_info": {
   "codemirror_mode": {
    "name": "ipython",
    "version": 3
   },
   "file_extension": ".py",
   "mimetype": "text/x-python",
   "name": "python",
   "nbconvert_exporter": "python",
   "pygments_lexer": "ipython3",
   "version": "3.12.0"
  }
 },
 "nbformat": 4,
 "nbformat_minor": 5
}
